{
  "nbformat": 4,
  "nbformat_minor": 0,
  "metadata": {
    "colab": {
      "name": "CNN and Transfer Learning.ipynb",
      "provenance": []
    },
    "kernelspec": {
      "name": "python3",
      "display_name": "Python 3"
    },
    "accelerator": "GPU"
  },
  "cells": [
    {
      "cell_type": "code",
      "metadata": {
        "id": "MZd0OiF-xeIL",
        "colab_type": "code",
        "colab": {
          "base_uri": "https://localhost:8080/",
          "height": 275
        },
        "outputId": "4ea81df0-f3f5-4cc8-93d7-4579cfd2664c"
      },
      "source": [
        "!pip install keras numpy matplotlib glob2\n"
      ],
      "execution_count": 53,
      "outputs": [
        {
          "output_type": "stream",
          "text": [
            "Requirement already satisfied: keras in /usr/local/lib/python3.6/dist-packages (2.3.1)\n",
            "Requirement already satisfied: numpy in /usr/local/lib/python3.6/dist-packages (1.18.5)\n",
            "Requirement already satisfied: matplotlib in /usr/local/lib/python3.6/dist-packages (3.2.2)\n",
            "Requirement already satisfied: glob2 in /usr/local/lib/python3.6/dist-packages (0.7)\n",
            "Requirement already satisfied: scipy>=0.14 in /usr/local/lib/python3.6/dist-packages (from keras) (1.4.1)\n",
            "Requirement already satisfied: h5py in /usr/local/lib/python3.6/dist-packages (from keras) (2.10.0)\n",
            "Requirement already satisfied: keras-applications>=1.0.6 in /usr/local/lib/python3.6/dist-packages (from keras) (1.0.8)\n",
            "Requirement already satisfied: pyyaml in /usr/local/lib/python3.6/dist-packages (from keras) (3.13)\n",
            "Requirement already satisfied: keras-preprocessing>=1.0.5 in /usr/local/lib/python3.6/dist-packages (from keras) (1.1.2)\n",
            "Requirement already satisfied: six>=1.9.0 in /usr/local/lib/python3.6/dist-packages (from keras) (1.15.0)\n",
            "Requirement already satisfied: python-dateutil>=2.1 in /usr/local/lib/python3.6/dist-packages (from matplotlib) (2.8.1)\n",
            "Requirement already satisfied: pyparsing!=2.0.4,!=2.1.2,!=2.1.6,>=2.0.1 in /usr/local/lib/python3.6/dist-packages (from matplotlib) (2.4.7)\n",
            "Requirement already satisfied: kiwisolver>=1.0.1 in /usr/local/lib/python3.6/dist-packages (from matplotlib) (1.2.0)\n",
            "Requirement already satisfied: cycler>=0.10 in /usr/local/lib/python3.6/dist-packages (from matplotlib) (0.10.0)\n"
          ],
          "name": "stdout"
        }
      ]
    },
    {
      "cell_type": "code",
      "metadata": {
        "id": "wq31-61_0JBV",
        "colab_type": "code",
        "colab": {}
      },
      "source": [
        "#Import the required packages/dependencies\n",
        "from keras.layers import Lambda, Dense, Input, Dense, Flatten, Conv2D\n",
        "from keras.models import Model, load_model\n",
        "from keras.models import Sequential\n",
        "from keras.applications.vgg19 import VGG19\n",
        "from keras.applications.resnet50 import preprocess_input\n",
        "from keras.preprocessing import image\n",
        "from keras.preprocessing.image import ImageDataGenerator, load_img\n",
        "import numpy as np\n",
        "from glob import glob\n",
        "import matplotlib.pyplot as plt"
      ],
      "execution_count": 54,
      "outputs": []
    },
    {
      "cell_type": "code",
      "metadata": {
        "id": "MWZ_CNLY0lt-",
        "colab_type": "code",
        "colab": {}
      },
      "source": [
        "#Load the data set and resize images\n",
        "IMAGE_SIZE = [224, 224]\n",
        "train_path  =\"/content/drive/My Drive/Dataset/Train\"\n",
        "valid_path  =\"/content/drive/My Drive/Dataset/Test\""
      ],
      "execution_count": 55,
      "outputs": []
    },
    {
      "cell_type": "code",
      "metadata": {
        "id": "QtZSsmB668do",
        "colab_type": "code",
        "colab": {}
      },
      "source": [
        "vgg19 = VGG19(input_shape=IMAGE_SIZE + [3], weights='imagenet', include_top=False)"
      ],
      "execution_count": 56,
      "outputs": []
    },
    {
      "cell_type": "code",
      "metadata": {
        "id": "Bbga3Xy27jPf",
        "colab_type": "code",
        "colab": {}
      },
      "source": [
        "#vgg19.summary()"
      ],
      "execution_count": 57,
      "outputs": []
    },
    {
      "cell_type": "code",
      "metadata": {
        "id": "vY1EyvFH8Dco",
        "colab_type": "code",
        "colab": {}
      },
      "source": [
        "#don't train the existing weights\n",
        "for layer in vgg19.layers:\n",
        "  layer.trainable = False"
      ],
      "execution_count": 58,
      "outputs": []
    },
    {
      "cell_type": "code",
      "metadata": {
        "id": "K8txPGr6USqB",
        "colab_type": "code",
        "colab": {
          "base_uri": "https://localhost:8080/",
          "height": 51
        },
        "outputId": "394e9173-6dc7-4569-b5da-00db030e0122"
      },
      "source": [
        "#useful for getting number of output classes\n",
        "folders =  glob(\"/content/drive/My Drive/Dataset/Train/*\")\n",
        "folders"
      ],
      "execution_count": 59,
      "outputs": [
        {
          "output_type": "execute_result",
          "data": {
            "text/plain": [
              "['/content/drive/My Drive/Dataset/Train/Parasite',\n",
              " '/content/drive/My Drive/Dataset/Train/Uninfected']"
            ]
          },
          "metadata": {
            "tags": []
          },
          "execution_count": 59
        }
      ]
    },
    {
      "cell_type": "code",
      "metadata": {
        "id": "uMcQnFqcU9Fc",
        "colab_type": "code",
        "colab": {}
      },
      "source": [
        "#our layers\n",
        "x = Flatten()(vgg19.output)"
      ],
      "execution_count": 60,
      "outputs": []
    },
    {
      "cell_type": "code",
      "metadata": {
        "id": "fgdhF9Q2V3Dn",
        "colab_type": "code",
        "colab": {}
      },
      "source": [
        "prediction = Dense(len(folders), activation='softmax')(x)\n",
        "\n",
        "#Create a model object\n",
        "model = Model(inputs=vgg19.input, outputs=prediction)"
      ],
      "execution_count": 61,
      "outputs": []
    },
    {
      "cell_type": "code",
      "metadata": {
        "id": "Hc2jvbN9bQqZ",
        "colab_type": "code",
        "colab": {
          "base_uri": "https://localhost:8080/",
          "height": 969
        },
        "outputId": "dc614a55-291d-4211-9488-b030b8f6a89d"
      },
      "source": [
        "model.summary()"
      ],
      "execution_count": 62,
      "outputs": [
        {
          "output_type": "stream",
          "text": [
            "Model: \"model_3\"\n",
            "_________________________________________________________________\n",
            "Layer (type)                 Output Shape              Param #   \n",
            "=================================================================\n",
            "input_3 (InputLayer)         (None, 224, 224, 3)       0         \n",
            "_________________________________________________________________\n",
            "block1_conv1 (Conv2D)        (None, 224, 224, 64)      1792      \n",
            "_________________________________________________________________\n",
            "block1_conv2 (Conv2D)        (None, 224, 224, 64)      36928     \n",
            "_________________________________________________________________\n",
            "block1_pool (MaxPooling2D)   (None, 112, 112, 64)      0         \n",
            "_________________________________________________________________\n",
            "block2_conv1 (Conv2D)        (None, 112, 112, 128)     73856     \n",
            "_________________________________________________________________\n",
            "block2_conv2 (Conv2D)        (None, 112, 112, 128)     147584    \n",
            "_________________________________________________________________\n",
            "block2_pool (MaxPooling2D)   (None, 56, 56, 128)       0         \n",
            "_________________________________________________________________\n",
            "block3_conv1 (Conv2D)        (None, 56, 56, 256)       295168    \n",
            "_________________________________________________________________\n",
            "block3_conv2 (Conv2D)        (None, 56, 56, 256)       590080    \n",
            "_________________________________________________________________\n",
            "block3_conv3 (Conv2D)        (None, 56, 56, 256)       590080    \n",
            "_________________________________________________________________\n",
            "block3_conv4 (Conv2D)        (None, 56, 56, 256)       590080    \n",
            "_________________________________________________________________\n",
            "block3_pool (MaxPooling2D)   (None, 28, 28, 256)       0         \n",
            "_________________________________________________________________\n",
            "block4_conv1 (Conv2D)        (None, 28, 28, 512)       1180160   \n",
            "_________________________________________________________________\n",
            "block4_conv2 (Conv2D)        (None, 28, 28, 512)       2359808   \n",
            "_________________________________________________________________\n",
            "block4_conv3 (Conv2D)        (None, 28, 28, 512)       2359808   \n",
            "_________________________________________________________________\n",
            "block4_conv4 (Conv2D)        (None, 28, 28, 512)       2359808   \n",
            "_________________________________________________________________\n",
            "block4_pool (MaxPooling2D)   (None, 14, 14, 512)       0         \n",
            "_________________________________________________________________\n",
            "block5_conv1 (Conv2D)        (None, 14, 14, 512)       2359808   \n",
            "_________________________________________________________________\n",
            "block5_conv2 (Conv2D)        (None, 14, 14, 512)       2359808   \n",
            "_________________________________________________________________\n",
            "block5_conv3 (Conv2D)        (None, 14, 14, 512)       2359808   \n",
            "_________________________________________________________________\n",
            "block5_conv4 (Conv2D)        (None, 14, 14, 512)       2359808   \n",
            "_________________________________________________________________\n",
            "block5_pool (MaxPooling2D)   (None, 7, 7, 512)         0         \n",
            "_________________________________________________________________\n",
            "flatten_3 (Flatten)          (None, 25088)             0         \n",
            "_________________________________________________________________\n",
            "dense_3 (Dense)              (None, 2)                 50178     \n",
            "=================================================================\n",
            "Total params: 20,074,562\n",
            "Trainable params: 50,178\n",
            "Non-trainable params: 20,024,384\n",
            "_________________________________________________________________\n"
          ],
          "name": "stdout"
        }
      ]
    },
    {
      "cell_type": "code",
      "metadata": {
        "id": "5UxZ5oQfcBBE",
        "colab_type": "code",
        "colab": {}
      },
      "source": [
        "#telling the model what cost and optimization method to use\n",
        "model.compile(\n",
        "    loss = 'categorical_crossentropy',\n",
        "    optimizer = 'adam',\n",
        "    metrics = ['accuracy']\n",
        ")"
      ],
      "execution_count": 63,
      "outputs": []
    },
    {
      "cell_type": "code",
      "metadata": {
        "id": "G5-d2AyGdSol",
        "colab_type": "code",
        "colab": {}
      },
      "source": [
        "#using the ImageDataGenerator to import the images from the dataset\n",
        "train_datagen = ImageDataGenerator(\n",
        "    rescale = 1./225,\n",
        "    shear_range = 0.2,\n",
        "    zoom_range = 0.2,\n",
        "    horizontal_flip = True\n",
        "    )\n",
        "\n",
        "test_datagen = ImageDataGenerator(rescale = 1./255)\n"
      ],
      "execution_count": 64,
      "outputs": []
    },
    {
      "cell_type": "code",
      "metadata": {
        "id": "tz5R_HtJePWQ",
        "colab_type": "code",
        "colab": {
          "base_uri": "https://localhost:8080/",
          "height": 34
        },
        "outputId": "8a557aa0-5225-4c5f-b22d-623c0d6fb6b6"
      },
      "source": [
        "training_set = train_datagen.flow_from_directory(train_path, \n",
        "                                                 target_size = (224, 224),\n",
        "                                                 batch_size = 32,\n",
        "                                                 class_mode = 'categorical'\n",
        "                                                 )"
      ],
      "execution_count": 65,
      "outputs": [
        {
          "output_type": "stream",
          "text": [
            "Found 416 images belonging to 2 classes.\n"
          ],
          "name": "stdout"
        }
      ]
    },
    {
      "cell_type": "code",
      "metadata": {
        "id": "WniABDjogCR8",
        "colab_type": "code",
        "colab": {
          "base_uri": "https://localhost:8080/",
          "height": 34
        },
        "outputId": "d844e5da-2ee5-4f03-e1f0-bf0dec2fef1b"
      },
      "source": [
        "training_set"
      ],
      "execution_count": 66,
      "outputs": [
        {
          "output_type": "execute_result",
          "data": {
            "text/plain": [
              "<keras.preprocessing.image.DirectoryIterator at 0x7f7777abedd8>"
            ]
          },
          "metadata": {
            "tags": []
          },
          "execution_count": 66
        }
      ]
    },
    {
      "cell_type": "code",
      "metadata": {
        "id": "RB9QitCAgFF-",
        "colab_type": "code",
        "colab": {
          "base_uri": "https://localhost:8080/",
          "height": 34
        },
        "outputId": "ee100b30-1e0f-4988-abde-52b3998bb458"
      },
      "source": [
        "test_set = test_datagen.flow_from_directory(valid_path,\n",
        "                                            target_size = (224, 224),\n",
        "                                            batch_size = 32,\n",
        "                                            class_mode = 'categorical')"
      ],
      "execution_count": 67,
      "outputs": [
        {
          "output_type": "stream",
          "text": [
            "Found 134 images belonging to 2 classes.\n"
          ],
          "name": "stdout"
        }
      ]
    },
    {
      "cell_type": "code",
      "metadata": {
        "id": "ndO0hATAgkuU",
        "colab_type": "code",
        "colab": {
          "base_uri": "https://localhost:8080/",
          "height": 377
        },
        "outputId": "f9e8b5e3-9735-4ca2-9eb0-7c7e60314c6f"
      },
      "source": [
        "# fit the model\n",
        "# Run the cell. It will take some time to execute\n",
        "r = model.fit_generator(\n",
        "  training_set,\n",
        "  validation_data=test_set,\n",
        "  epochs=10,\n",
        "  steps_per_epoch=len(training_set),\n",
        "  validation_steps=len(test_set)\n",
        ")"
      ],
      "execution_count": 68,
      "outputs": [
        {
          "output_type": "stream",
          "text": [
            "Epoch 1/10\n",
            "13/13 [==============================] - 6s 496ms/step - loss: 0.8955 - accuracy: 0.6106 - val_loss: 0.7527 - val_accuracy: 0.4925\n",
            "Epoch 2/10\n",
            "13/13 [==============================] - 6s 428ms/step - loss: 0.4552 - accuracy: 0.7500 - val_loss: 0.4341 - val_accuracy: 0.7463\n",
            "Epoch 3/10\n",
            "13/13 [==============================] - 6s 428ms/step - loss: 0.3708 - accuracy: 0.8173 - val_loss: 0.3665 - val_accuracy: 0.6866\n",
            "Epoch 4/10\n",
            "13/13 [==============================] - 6s 425ms/step - loss: 0.2947 - accuracy: 0.8894 - val_loss: 0.4411 - val_accuracy: 0.8358\n",
            "Epoch 5/10\n",
            "13/13 [==============================] - 6s 430ms/step - loss: 0.2863 - accuracy: 0.8846 - val_loss: 0.3825 - val_accuracy: 0.7836\n",
            "Epoch 6/10\n",
            "13/13 [==============================] - 6s 428ms/step - loss: 0.2422 - accuracy: 0.9111 - val_loss: 0.9816 - val_accuracy: 0.7388\n",
            "Epoch 7/10\n",
            "13/13 [==============================] - 6s 430ms/step - loss: 0.2013 - accuracy: 0.9303 - val_loss: 0.5905 - val_accuracy: 0.8358\n",
            "Epoch 8/10\n",
            "13/13 [==============================] - 6s 431ms/step - loss: 0.2183 - accuracy: 0.9279 - val_loss: 0.5199 - val_accuracy: 0.7687\n",
            "Epoch 9/10\n",
            "13/13 [==============================] - 6s 433ms/step - loss: 0.2020 - accuracy: 0.9327 - val_loss: 0.1111 - val_accuracy: 0.9179\n",
            "Epoch 10/10\n",
            "13/13 [==============================] - 6s 429ms/step - loss: 0.1906 - accuracy: 0.9447 - val_loss: 0.0858 - val_accuracy: 0.9179\n"
          ],
          "name": "stdout"
        }
      ]
    },
    {
      "cell_type": "code",
      "metadata": {
        "id": "PrMtJJJvg0_n",
        "colab_type": "code",
        "colab": {
          "base_uri": "https://localhost:8080/",
          "height": 530
        },
        "outputId": "dedf2c4f-3daf-4425-ad9c-fb42fb4c44a7"
      },
      "source": [
        "# plotting the loss\n",
        "plt.plot(r.history['loss'], label='train loss')\n",
        "plt.plot(r.history['val_loss'], label='val loss')\n",
        "plt.legend()\n",
        "plt.show()\n",
        "plt.savefig('LossVal_loss')\n",
        "\n",
        "# plot the accuracy\n",
        "plt.plot(r.history['accuracy'], label='train acc')\n",
        "plt.plot(r.history['val_accuracy'], label='val acc')\n",
        "plt.legend()\n",
        "plt.show()\n",
        "plt.savefig('AccVal_acc')"
      ],
      "execution_count": 69,
      "outputs": [
        {
          "output_type": "display_data",
          "data": {
            "image/png": "[encoded data removed]",
            "text/plain": [
              "<Figure size 432x288 with 1 Axes>"
            ]
          },
          "metadata": {
            "tags": [],
            "needs_background": "light"
          }
        },
        {
          "output_type": "display_data",
          "data": {
            "image/png": "[encoded data removed]",
            "text/plain": [
              "<Figure size 432x288 with 1 Axes>"
            ]
          },
          "metadata": {
            "tags": [],
            "needs_background": "light"
          }
        },
        {
          "output_type": "display_data",
          "data": {
            "text/plain": [
              "<Figure size 432x288 with 0 Axes>"
            ]
          },
          "metadata": {
            "tags": []
          }
        }
      ]
    },
    {
      "cell_type": "code",
      "metadata": {
        "id": "8XK0uAI4l-5n",
        "colab_type": "code",
        "colab": {}
      },
      "source": [
        "# save it as a h5 file\n",
        "# model.save('model_vgg19.h5')\n",
        "!mkdir -p saved_model\n",
        "model.save('saved_model/model_vgg19.h5') "
      ],
      "execution_count": 70,
      "outputs": []
    },
    {
      "cell_type": "code",
      "metadata": {
        "id": "9A4E0AtDmXqj",
        "colab_type": "code",
        "colab": {
          "base_uri": "https://localhost:8080/",
          "height": 1000
        },
        "outputId": "8dd66b5b-19ba-4470-faba-cb1bfd4ae8ab"
      },
      "source": [
        "#Predicting the test dataset\n",
        "y_pred = model.predict(test_set)\n",
        "y_pred"
      ],
      "execution_count": 71,
      "outputs": [
        {
          "output_type": "execute_result",
          "data": {
            "text/plain": [
              "array([[9.98900414e-01, 1.09951315e-03],\n",
              "       [9.47733283e-01, 5.22667728e-02],\n",
              "       [9.99199092e-01, 8.00958194e-04],\n",
              "       [1.48943469e-01, 8.51056516e-01],\n",
              "       [4.05027978e-02, 9.59497213e-01],\n",
              "       [6.10394239e-01, 3.89605790e-01],\n",
              "       [6.83908165e-01, 3.16091806e-01],\n",
              "       [8.63905847e-01, 1.36094138e-01],\n",
              "       [9.77151692e-01, 2.28482615e-02],\n",
              "       [9.65994120e-01, 3.40058208e-02],\n",
              "       [6.84836268e-01, 3.15163732e-01],\n",
              "       [1.82344824e-01, 8.17655146e-01],\n",
              "       [9.03069198e-01, 9.69308317e-02],\n",
              "       [2.17900932e-01, 7.82099068e-01],\n",
              "       [7.37716615e-01, 2.62283385e-01],\n",
              "       [4.31732088e-01, 5.68267882e-01],\n",
              "       [9.63568628e-01, 3.64313535e-02],\n",
              "       [1.56787470e-01, 8.43212545e-01],\n",
              "       [6.76778316e-01, 3.23221684e-01],\n",
              "       [4.51740086e-01, 5.48259914e-01],\n",
              "       [8.92479837e-01, 1.07520126e-01],\n",
              "       [4.81314927e-01, 5.18685043e-01],\n",
              "       [8.78733575e-01, 1.21266410e-01],\n",
              "       [9.48585123e-02, 9.05141532e-01],\n",
              "       [7.88690522e-02, 9.21130955e-01],\n",
              "       [9.84407306e-01, 1.55926906e-02],\n",
              "       [1.17984526e-01, 8.82015407e-01],\n",
              "       [9.68715131e-01, 3.12848836e-02],\n",
              "       [7.14127481e-01, 2.85872519e-01],\n",
              "       [2.55100608e-01, 7.44899333e-01],\n",
              "       [9.88100767e-01, 1.18992236e-02],\n",
              "       [5.08202851e-01, 4.91797090e-01],\n",
              "       [8.70980561e-01, 1.29019439e-01],\n",
              "       [8.46279621e-01, 1.53720319e-01],\n",
              "       [9.98768866e-01, 1.23112858e-03],\n",
              "       [9.99960065e-01, 3.99449709e-05],\n",
              "       [1.69722661e-01, 8.30277324e-01],\n",
              "       [1.23448119e-01, 8.76551926e-01],\n",
              "       [9.78677988e-01, 2.13220343e-02],\n",
              "       [8.47534657e-01, 1.52465343e-01],\n",
              "       [9.78757679e-01, 2.12422851e-02],\n",
              "       [9.59378719e-01, 4.06213105e-02],\n",
              "       [1.78123415e-01, 8.21876585e-01],\n",
              "       [9.91248131e-01, 8.75183940e-03],\n",
              "       [9.77622569e-01, 2.23773848e-02],\n",
              "       [5.46402752e-01, 4.53597218e-01],\n",
              "       [2.93008953e-01, 7.06991017e-01],\n",
              "       [3.47905368e-01, 6.52094662e-01],\n",
              "       [7.54190147e-01, 2.45809913e-01],\n",
              "       [9.78661656e-01, 2.13383865e-02],\n",
              "       [5.25918365e-01, 4.74081665e-01],\n",
              "       [9.42097306e-01, 5.79026192e-02],\n",
              "       [2.70963699e-01, 7.29036272e-01],\n",
              "       [2.57167459e-01, 7.42832541e-01],\n",
              "       [9.96973038e-01, 3.02697439e-03],\n",
              "       [6.17943108e-01, 3.82056892e-01],\n",
              "       [2.54367262e-01, 7.45632768e-01],\n",
              "       [9.83106613e-01, 1.68933179e-02],\n",
              "       [6.38091207e-01, 3.61908793e-01],\n",
              "       [2.14429453e-01, 7.85570502e-01],\n",
              "       [8.37248087e-01, 1.62751928e-01],\n",
              "       [6.94837332e-01, 3.05162638e-01],\n",
              "       [3.75944793e-01, 6.24055266e-01],\n",
              "       [6.96344316e-01, 3.03655684e-01],\n",
              "       [1.48651153e-01, 8.51348877e-01],\n",
              "       [6.84057891e-01, 3.15942138e-01],\n",
              "       [9.91234779e-01, 8.76518060e-03],\n",
              "       [3.15805078e-01, 6.84194982e-01],\n",
              "       [1.14195220e-01, 8.85804713e-01],\n",
              "       [7.86514342e-01, 2.13485688e-01],\n",
              "       [7.56205469e-02, 9.24379468e-01],\n",
              "       [8.25879693e-01, 1.74120292e-01],\n",
              "       [9.99099851e-01, 9.00171290e-04],\n",
              "       [8.08092773e-01, 1.91907227e-01],\n",
              "       [9.86127734e-01, 1.38722621e-02],\n",
              "       [1.00162134e-01, 8.99837852e-01],\n",
              "       [6.22190058e-01, 3.77809972e-01],\n",
              "       [9.84663367e-01, 1.53366271e-02],\n",
              "       [6.59079909e-01, 3.40920061e-01],\n",
              "       [3.87340486e-01, 6.12659574e-01],\n",
              "       [3.14512640e-01, 6.85487330e-01],\n",
              "       [9.68152106e-01, 3.18479128e-02],\n",
              "       [8.84629011e-01, 1.15370996e-01],\n",
              "       [9.56693709e-01, 4.33062427e-02],\n",
              "       [9.89627838e-01, 1.03721339e-02],\n",
              "       [5.94379723e-01, 4.05620307e-01],\n",
              "       [9.76889729e-01, 2.31102351e-02],\n",
              "       [1.05377145e-01, 8.94622803e-01],\n",
              "       [6.55458927e-01, 3.44541013e-01],\n",
              "       [7.99092650e-02, 9.20090735e-01],\n",
              "       [1.41036227e-01, 8.58963847e-01],\n",
              "       [3.45106095e-01, 6.54893875e-01],\n",
              "       [8.95181596e-01, 1.04818366e-01],\n",
              "       [4.49112803e-01, 5.50887167e-01],\n",
              "       [9.93374527e-01, 6.62547164e-03],\n",
              "       [1.41172409e-01, 8.58827591e-01],\n",
              "       [6.32907450e-01, 3.67092550e-01],\n",
              "       [4.96825784e-01, 5.03174186e-01],\n",
              "       [1.18920922e-01, 8.81079137e-01],\n",
              "       [8.50255132e-01, 1.49744868e-01],\n",
              "       [1.97565302e-01, 8.02434683e-01],\n",
              "       [1.71196565e-01, 8.28803420e-01],\n",
              "       [9.86963689e-01, 1.30363153e-02],\n",
              "       [2.46883988e-01, 7.53116012e-01],\n",
              "       [7.82373011e-01, 2.17626974e-01],\n",
              "       [1.97030157e-01, 8.02969813e-01],\n",
              "       [5.13892293e-01, 4.86107677e-01],\n",
              "       [9.45247263e-02, 9.05475259e-01],\n",
              "       [9.99900460e-01, 9.95096343e-05],\n",
              "       [7.45247185e-01, 2.54752845e-01],\n",
              "       [3.41659725e-01, 6.58340335e-01],\n",
              "       [9.94892478e-01, 5.10752946e-03],\n",
              "       [1.69241190e-01, 8.30758810e-01],\n",
              "       [8.12243998e-01, 1.87756062e-01],\n",
              "       [3.42562020e-01, 6.57437980e-01],\n",
              "       [9.49334919e-01, 5.06650619e-02],\n",
              "       [3.64201307e-01, 6.35798633e-01],\n",
              "       [9.71673608e-01, 2.83263214e-02],\n",
              "       [9.94683683e-01, 5.31627797e-03],\n",
              "       [3.55413884e-01, 6.44586146e-01],\n",
              "       [9.64805126e-01, 3.51948924e-02],\n",
              "       [9.99377966e-01, 6.21996878e-04],\n",
              "       [2.04158306e-01, 7.95841753e-01],\n",
              "       [1.00526407e-01, 8.99473608e-01],\n",
              "       [9.79479134e-01, 2.05209199e-02],\n",
              "       [1.40849307e-01, 8.59150648e-01],\n",
              "       [7.26945773e-02, 9.27305400e-01],\n",
              "       [9.98635590e-01, 1.36438524e-03],\n",
              "       [1.44679576e-01, 8.55320394e-01],\n",
              "       [5.47517091e-02, 9.45248306e-01],\n",
              "       [9.88963023e-02, 9.01103735e-01],\n",
              "       [9.92249846e-01, 7.75012933e-03],\n",
              "       [8.26894581e-01, 1.73105419e-01],\n",
              "       [9.99504209e-01, 4.95790853e-04]], dtype=float32)"
            ]
          },
          "metadata": {
            "tags": []
          },
          "execution_count": 71
        }
      ]
    },
    {
      "cell_type": "code",
      "metadata": {
        "id": "5eVbl53Omm_j",
        "colab_type": "code",
        "colab": {
          "base_uri": "https://localhost:8080/",
          "height": 136
        },
        "outputId": "33af98ff-c600-42ab-cee3-a69c26bc949b"
      },
      "source": [
        "y_pred = np.argmax(y_pred, axis=1)\n",
        "y_pred"
      ],
      "execution_count": 72,
      "outputs": [
        {
          "output_type": "execute_result",
          "data": {
            "text/plain": [
              "array([0, 0, 0, 1, 1, 0, 0, 0, 0, 0, 0, 1, 0, 1, 0, 1, 0, 1, 0, 1, 0, 1,\n",
              "       0, 1, 1, 0, 1, 0, 0, 1, 0, 0, 0, 0, 0, 0, 1, 1, 0, 0, 0, 0, 1, 0,\n",
              "       0, 0, 1, 1, 0, 0, 0, 0, 1, 1, 0, 0, 1, 0, 0, 1, 0, 0, 1, 0, 1, 0,\n",
              "       0, 1, 1, 0, 1, 0, 0, 0, 0, 1, 0, 0, 0, 1, 1, 0, 0, 0, 0, 0, 0, 1,\n",
              "       0, 1, 1, 1, 0, 1, 0, 1, 0, 1, 1, 0, 1, 1, 0, 1, 0, 1, 0, 1, 0, 0,\n",
              "       1, 0, 1, 0, 1, 0, 1, 0, 0, 1, 0, 0, 1, 1, 0, 1, 1, 0, 1, 1, 1, 0,\n",
              "       0, 0])"
            ]
          },
          "metadata": {
            "tags": []
          },
          "execution_count": 72
        }
      ]
    },
    {
      "cell_type": "code",
      "metadata": {
        "id": "k76GxugBmxDp",
        "colab_type": "code",
        "colab": {}
      },
      "source": [
        "model=load_model('/content/saved_model/model_vgg19.h5')"
      ],
      "execution_count": 73,
      "outputs": []
    },
    {
      "cell_type": "code",
      "metadata": {
        "id": "_kc3Is1dnfhW",
        "colab_type": "code",
        "colab": {}
      },
      "source": [
        "#Loading a particular image from the test data set\n",
        "img=image.load_img('/content/drive/My Drive/Dataset/Test/Uninfected/2.png',target_size=(224,224))"
      ],
      "execution_count": 74,
      "outputs": []
    },
    {
      "cell_type": "code",
      "metadata": {
        "id": "Gg_Vg5wpnxv6",
        "colab_type": "code",
        "colab": {
          "base_uri": "https://localhost:8080/",
          "height": 850
        },
        "outputId": "a29ebfaf-71f2-457a-89fd-4a9fa63b24f6"
      },
      "source": [
        "#COnvetting it into an array\n",
        "x=image.img_to_array(img)\n",
        "x"
      ],
      "execution_count": 75,
      "outputs": [
        {
          "output_type": "execute_result",
          "data": {
            "text/plain": [
              "array([[[0., 0., 0.],\n",
              "        [0., 0., 0.],\n",
              "        [0., 0., 0.],\n",
              "        ...,\n",
              "        [0., 0., 0.],\n",
              "        [0., 0., 0.],\n",
              "        [0., 0., 0.]],\n",
              "\n",
              "       [[0., 0., 0.],\n",
              "        [0., 0., 0.],\n",
              "        [0., 0., 0.],\n",
              "        ...,\n",
              "        [0., 0., 0.],\n",
              "        [0., 0., 0.],\n",
              "        [0., 0., 0.]],\n",
              "\n",
              "       [[0., 0., 0.],\n",
              "        [0., 0., 0.],\n",
              "        [0., 0., 0.],\n",
              "        ...,\n",
              "        [0., 0., 0.],\n",
              "        [0., 0., 0.],\n",
              "        [0., 0., 0.]],\n",
              "\n",
              "       ...,\n",
              "\n",
              "       [[0., 0., 0.],\n",
              "        [0., 0., 0.],\n",
              "        [0., 0., 0.],\n",
              "        ...,\n",
              "        [0., 0., 0.],\n",
              "        [0., 0., 0.],\n",
              "        [0., 0., 0.]],\n",
              "\n",
              "       [[0., 0., 0.],\n",
              "        [0., 0., 0.],\n",
              "        [0., 0., 0.],\n",
              "        ...,\n",
              "        [0., 0., 0.],\n",
              "        [0., 0., 0.],\n",
              "        [0., 0., 0.]],\n",
              "\n",
              "       [[0., 0., 0.],\n",
              "        [0., 0., 0.],\n",
              "        [0., 0., 0.],\n",
              "        ...,\n",
              "        [0., 0., 0.],\n",
              "        [0., 0., 0.],\n",
              "        [0., 0., 0.]]], dtype=float32)"
            ]
          },
          "metadata": {
            "tags": []
          },
          "execution_count": 75
        }
      ]
    },
    {
      "cell_type": "code",
      "metadata": {
        "id": "1F3Ss8xSoLcN",
        "colab_type": "code",
        "colab": {
          "base_uri": "https://localhost:8080/",
          "height": 34
        },
        "outputId": "a520ee7f-1584-4ff2-ed06-a84e43acb2ee"
      },
      "source": [
        "x.shape"
      ],
      "execution_count": 76,
      "outputs": [
        {
          "output_type": "execute_result",
          "data": {
            "text/plain": [
              "(224, 224, 3)"
            ]
          },
          "metadata": {
            "tags": []
          },
          "execution_count": 76
        }
      ]
    },
    {
      "cell_type": "code",
      "metadata": {
        "id": "1-z7v3tjoPtz",
        "colab_type": "code",
        "colab": {}
      },
      "source": [
        "x=x/255"
      ],
      "execution_count": 77,
      "outputs": []
    },
    {
      "cell_type": "code",
      "metadata": {
        "id": "XgRop6w1oUra",
        "colab_type": "code",
        "colab": {
          "base_uri": "https://localhost:8080/",
          "height": 34
        },
        "outputId": "a2332869-0327-403c-d83e-f9c24ff79439"
      },
      "source": [
        "x=np.expand_dims(x,axis=0)\n",
        "img_data=preprocess_input(x)\n",
        "img_data.shape"
      ],
      "execution_count": 78,
      "outputs": [
        {
          "output_type": "execute_result",
          "data": {
            "text/plain": [
              "(1, 224, 224, 3)"
            ]
          },
          "metadata": {
            "tags": []
          },
          "execution_count": 78
        }
      ]
    },
    {
      "cell_type": "code",
      "metadata": {
        "id": "zUlNlJrHoYPK",
        "colab_type": "code",
        "colab": {
          "base_uri": "https://localhost:8080/",
          "height": 34
        },
        "outputId": "7128a2f2-9392-40e5-888f-e424cff63b23"
      },
      "source": [
        "#Predicting the particular image\n",
        "pred = model.predict(img_data)\n",
        "pred"
      ],
      "execution_count": 79,
      "outputs": [
        {
          "output_type": "execute_result",
          "data": {
            "text/plain": [
              "array([[1.7761570e-04, 9.9982244e-01]], dtype=float32)"
            ]
          },
          "metadata": {
            "tags": []
          },
          "execution_count": 79
        }
      ]
    },
    {
      "cell_type": "code",
      "metadata": {
        "id": "T0wAgLwNobLY",
        "colab_type": "code",
        "colab": {
          "base_uri": "https://localhost:8080/",
          "height": 34
        },
        "outputId": "a0205fbf-bf9a-47d9-e2ef-95283b3afeaf"
      },
      "source": [
        "a=np.argmax(pred, axis=1)\n",
        "\n",
        "if(a==1):\n",
        "    print(\"Uninfected\")\n",
        "else:\n",
        "    print(\"Infected\")"
      ],
      "execution_count": 80,
      "outputs": [
        {
          "output_type": "stream",
          "text": [
            "Uninfected\n"
          ],
          "name": "stdout"
        }
      ]
    }
  ]
}